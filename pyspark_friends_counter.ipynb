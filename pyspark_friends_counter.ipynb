{
  "nbformat": 4,
  "nbformat_minor": 0,
  "metadata": {
    "colab": {
      "name": "pyspark/friends counter",
      "provenance": [],
      "authorship_tag": "ABX9TyNwyAFGwtixv2grZwR4CT4J",
      "include_colab_link": true
    },
    "kernelspec": {
      "name": "python3",
      "display_name": "Python 3"
    }
  },
  "cells": [
    {
      "cell_type": "markdown",
      "metadata": {
        "id": "view-in-github",
        "colab_type": "text"
      },
      "source": [
        "<a href=\"https://colab.research.google.com/github/qmaruf/pyspark/blob/main/pyspark_friends_counter.ipynb\" target=\"_parent\"><img src=\"https://colab.research.google.com/assets/colab-badge.svg\" alt=\"Open In Colab\"/></a>"
      ]
    },
    {
      "cell_type": "code",
      "metadata": {
        "colab": {
          "base_uri": "https://localhost:8080/"
        },
        "id": "ABw6q7J3DFfc",
        "outputId": "934083c0-b56c-49e4-b8c5-f28c535fe3bf"
      },
      "source": [
        "! wget https://raw.githubusercontent.com/PacktPublishing/Frank-Kanes-Taming-Big-Data-with-Apache-Spark-and-Python/master/fakefriends.csv"
      ],
      "execution_count": 1,
      "outputs": [
        {
          "output_type": "stream",
          "text": [
            "--2021-01-11 01:26:09--  https://raw.githubusercontent.com/PacktPublishing/Frank-Kanes-Taming-Big-Data-with-Apache-Spark-and-Python/master/fakefriends.csv\n",
            "Resolving raw.githubusercontent.com (raw.githubusercontent.com)... 151.101.0.133, 151.101.64.133, 151.101.128.133, ...\n",
            "Connecting to raw.githubusercontent.com (raw.githubusercontent.com)|151.101.0.133|:443... connected.\n",
            "HTTP request sent, awaiting response... 200 OK\n",
            "Length: 8754 (8.5K) [text/plain]\n",
            "Saving to: ‘fakefriends.csv’\n",
            "\n",
            "\rfakefriends.csv       0%[                    ]       0  --.-KB/s               \rfakefriends.csv     100%[===================>]   8.55K  --.-KB/s    in 0s      \n",
            "\n",
            "2021-01-11 01:26:10 (88.5 MB/s) - ‘fakefriends.csv’ saved [8754/8754]\n",
            "\n"
          ],
          "name": "stdout"
        }
      ]
    },
    {
      "cell_type": "code",
      "metadata": {
        "colab": {
          "base_uri": "https://localhost:8080/"
        },
        "id": "HiOrrOpQDLdC",
        "outputId": "0f69701e-9f87-4336-8c0c-f60e0a327bb1"
      },
      "source": [
        "! pip install pyspark"
      ],
      "execution_count": 2,
      "outputs": [
        {
          "output_type": "stream",
          "text": [
            "Collecting pyspark\n",
            "\u001b[?25l  Downloading https://files.pythonhosted.org/packages/f0/26/198fc8c0b98580f617cb03cb298c6056587b8f0447e20fa40c5b634ced77/pyspark-3.0.1.tar.gz (204.2MB)\n",
            "\u001b[K     |████████████████████████████████| 204.2MB 69kB/s \n",
            "\u001b[?25hCollecting py4j==0.10.9\n",
            "\u001b[?25l  Downloading https://files.pythonhosted.org/packages/9e/b6/6a4fb90cd235dc8e265a6a2067f2a2c99f0d91787f06aca4bcf7c23f3f80/py4j-0.10.9-py2.py3-none-any.whl (198kB)\n",
            "\u001b[K     |████████████████████████████████| 204kB 51.0MB/s \n",
            "\u001b[?25hBuilding wheels for collected packages: pyspark\n",
            "  Building wheel for pyspark (setup.py) ... \u001b[?25l\u001b[?25hdone\n",
            "  Created wheel for pyspark: filename=pyspark-3.0.1-py2.py3-none-any.whl size=204612242 sha256=6d167201996c2584abc663554609b1b65a3e82a5366f34a3cb31178b73f8e742\n",
            "  Stored in directory: /root/.cache/pip/wheels/5e/bd/07/031766ca628adec8435bb40f0bd83bb676ce65ff4007f8e73f\n",
            "Successfully built pyspark\n",
            "Installing collected packages: py4j, pyspark\n",
            "Successfully installed py4j-0.10.9 pyspark-3.0.1\n"
          ],
          "name": "stdout"
        }
      ]
    },
    {
      "cell_type": "code",
      "metadata": {
        "id": "4KnsM6WFDNut"
      },
      "source": [
        "from pyspark import SparkConf, SparkContext"
      ],
      "execution_count": 4,
      "outputs": []
    },
    {
      "cell_type": "code",
      "metadata": {
        "id": "ZkObE00tEBht"
      },
      "source": [
        "conf = SparkConf().setMaster('local').setAppName('friendsByAge')\n",
        "sc = SparkContext(conf = conf)"
      ],
      "execution_count": 5,
      "outputs": []
    },
    {
      "cell_type": "code",
      "metadata": {
        "colab": {
          "base_uri": "https://localhost:8080/"
        },
        "id": "-mmy2RuwEWNg",
        "outputId": "18abe7c5-4172-4839-83bb-2c258b46880e"
      },
      "source": [
        "data = sc.textFile('/content/fakefriends.csv')\n",
        "data"
      ],
      "execution_count": 8,
      "outputs": [
        {
          "output_type": "execute_result",
          "data": {
            "text/plain": [
              "/content/fakefriends.csv MapPartitionsRDD[1] at textFile at NativeMethodAccessorImpl.java:0"
            ]
          },
          "metadata": {
            "tags": []
          },
          "execution_count": 8
        }
      ]
    },
    {
      "cell_type": "code",
      "metadata": {
        "id": "62rvIqitEfvT"
      },
      "source": [
        "def parser(datum):\n",
        "    parts = datum.split(',')\n",
        "    return (int(parts[2]), int(parts[3]))\n",
        "rdd = data.map(parser)"
      ],
      "execution_count": 10,
      "outputs": []
    },
    {
      "cell_type": "code",
      "metadata": {
        "id": "DkmD0LX0FZnr"
      },
      "source": [
        "avgByAge = rdd.mapValues(lambda x: (x, 1)).reduceByKey(lambda x, y: (x[0] + y[0], x[1] + y[1])).mapValues(lambda x: int(x[0]/x[1])).collect()"
      ],
      "execution_count": 32,
      "outputs": []
    },
    {
      "cell_type": "code",
      "metadata": {
        "colab": {
          "base_uri": "https://localhost:8080/"
        },
        "id": "-inIMasKFZqt",
        "outputId": "74a71632-dbf8-4de5-a26d-75c0f4ca7190"
      },
      "source": [
        "rdd.take(5)"
      ],
      "execution_count": 33,
      "outputs": [
        {
          "output_type": "execute_result",
          "data": {
            "text/plain": [
              "[(33, 385), (26, 2), (55, 221), (40, 465), (68, 21)]"
            ]
          },
          "metadata": {
            "tags": []
          },
          "execution_count": 33
        }
      ]
    },
    {
      "cell_type": "code",
      "metadata": {
        "colab": {
          "base_uri": "https://localhost:8080/"
        },
        "id": "Nqs9BrpEHgdl",
        "outputId": "827aa53a-e9b2-41fd-aa3a-7de33863ae64"
      },
      "source": [
        "for info in avgByAge:\n",
        "    print (info)"
      ],
      "execution_count": 35,
      "outputs": [
        {
          "output_type": "stream",
          "text": [
            "(33, 325)\n",
            "(26, 242)\n",
            "(55, 295)\n",
            "(40, 250)\n",
            "(68, 269)\n",
            "(59, 220)\n",
            "(37, 249)\n",
            "(54, 278)\n",
            "(38, 193)\n",
            "(27, 228)\n",
            "(53, 222)\n",
            "(57, 258)\n",
            "(56, 306)\n",
            "(43, 230)\n",
            "(36, 246)\n",
            "(22, 206)\n",
            "(35, 211)\n",
            "(45, 309)\n",
            "(60, 202)\n",
            "(67, 214)\n",
            "(19, 213)\n",
            "(30, 235)\n",
            "(51, 302)\n",
            "(25, 197)\n",
            "(21, 350)\n",
            "(42, 303)\n",
            "(49, 184)\n",
            "(48, 281)\n",
            "(50, 254)\n",
            "(39, 169)\n",
            "(32, 207)\n",
            "(58, 116)\n",
            "(64, 281)\n",
            "(31, 267)\n",
            "(52, 340)\n",
            "(24, 233)\n",
            "(20, 165)\n",
            "(62, 220)\n",
            "(41, 268)\n",
            "(44, 282)\n",
            "(69, 235)\n",
            "(65, 298)\n",
            "(61, 256)\n",
            "(28, 209)\n",
            "(66, 276)\n",
            "(46, 223)\n",
            "(29, 215)\n",
            "(18, 343)\n",
            "(47, 233)\n",
            "(34, 245)\n",
            "(63, 384)\n",
            "(23, 246)\n"
          ],
          "name": "stdout"
        }
      ]
    },
    {
      "cell_type": "code",
      "metadata": {
        "colab": {
          "base_uri": "https://localhost:8080/"
        },
        "id": "z1ZMM512FU5I",
        "outputId": "d32f4663-7a1e-48d7-890a-8ec1eb69efcd"
      },
      "source": [
        "rdd"
      ],
      "execution_count": 11,
      "outputs": [
        {
          "output_type": "execute_result",
          "data": {
            "text/plain": [
              "PythonRDD[2] at RDD at PythonRDD.scala:53"
            ]
          },
          "metadata": {
            "tags": []
          },
          "execution_count": 11
        }
      ]
    },
    {
      "cell_type": "code",
      "metadata": {
        "colab": {
          "base_uri": "https://localhost:8080/"
        },
        "id": "D-D8tt1-FU8e",
        "outputId": "004699fc-e34b-4f21-987c-98e56d269e72"
      },
      "source": [
        "print (rdd)"
      ],
      "execution_count": 12,
      "outputs": [
        {
          "output_type": "stream",
          "text": [
            "PythonRDD[2] at RDD at PythonRDD.scala:53\n"
          ],
          "name": "stdout"
        }
      ]
    },
    {
      "cell_type": "code",
      "metadata": {
        "colab": {
          "base_uri": "https://localhost:8080/"
        },
        "id": "mkExDjNAEfye",
        "outputId": "a1361780-d2d8-4faa-b7b5-1580f92fa446"
      },
      "source": [
        "! head /content/fakefriends.csv"
      ],
      "execution_count": 9,
      "outputs": [
        {
          "output_type": "stream",
          "text": [
            "0,Will,33,385\r\n",
            "1,Jean-Luc,26,2\r\n",
            "2,Hugh,55,221\r\n",
            "3,Deanna,40,465\r\n",
            "4,Quark,68,21\r\n",
            "5,Weyoun,59,318\r\n",
            "6,Gowron,37,220\r\n",
            "7,Will,54,307\r\n",
            "8,Jadzia,38,380\r\n",
            "9,Hugh,27,181\r\n"
          ],
          "name": "stdout"
        }
      ]
    },
    {
      "cell_type": "code",
      "metadata": {
        "id": "D8gaOLbAEu-q"
      },
      "source": [
        ""
      ],
      "execution_count": null,
      "outputs": []
    }
  ]
}