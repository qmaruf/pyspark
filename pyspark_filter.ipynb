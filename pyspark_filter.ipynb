{
  "nbformat": 4,
  "nbformat_minor": 0,
  "metadata": {
    "colab": {
      "name": "pyspark/filter",
      "provenance": [],
      "authorship_tag": "ABX9TyNNPrEUeVJQU7ySG/LdHWeJ",
      "include_colab_link": true
    },
    "kernelspec": {
      "name": "python3",
      "display_name": "Python 3"
    }
  },
  "cells": [
    {
      "cell_type": "markdown",
      "metadata": {
        "id": "view-in-github",
        "colab_type": "text"
      },
      "source": [
        "<a href=\"https://colab.research.google.com/github/qmaruf/pyspark/blob/main/pyspark_filter.ipynb\" target=\"_parent\"><img src=\"https://colab.research.google.com/assets/colab-badge.svg\" alt=\"Open In Colab\"/></a>"
      ]
    },
    {
      "cell_type": "code",
      "metadata": {
        "colab": {
          "base_uri": "https://localhost:8080/"
        },
        "id": "LaJ3xJOXzFm0",
        "outputId": "b06c66ad-311e-48d2-d3c1-a7bd4b9ef673"
      },
      "source": [
        "! wget https://raw.githubusercontent.com/leonpalafox/SparkCode/master/1800.csv"
      ],
      "execution_count": 1,
      "outputs": [
        {
          "output_type": "stream",
          "text": [
            "--2021-01-16 15:25:11--  https://raw.githubusercontent.com/leonpalafox/SparkCode/master/1800.csv\n",
            "Resolving raw.githubusercontent.com (raw.githubusercontent.com)... 151.101.0.133, 151.101.64.133, 151.101.128.133, ...\n",
            "Connecting to raw.githubusercontent.com (raw.githubusercontent.com)|151.101.0.133|:443... connected.\n",
            "HTTP request sent, awaiting response... 200 OK\n",
            "Length: 62728 (61K) [text/plain]\n",
            "Saving to: ‘1800.csv’\n",
            "\n",
            "1800.csv            100%[===================>]  61.26K  --.-KB/s    in 0.01s   \n",
            "\n",
            "2021-01-16 15:25:11 (4.51 MB/s) - ‘1800.csv’ saved [62728/62728]\n",
            "\n"
          ],
          "name": "stdout"
        }
      ]
    },
    {
      "cell_type": "code",
      "metadata": {
        "colab": {
          "base_uri": "https://localhost:8080/"
        },
        "id": "i6DUuKDZzKPX",
        "outputId": "962e80c1-73ce-4940-acc6-c31e7dad0a05"
      },
      "source": [
        "! pip install pyspark"
      ],
      "execution_count": 2,
      "outputs": [
        {
          "output_type": "stream",
          "text": [
            "Collecting pyspark\n",
            "\u001b[?25l  Downloading https://files.pythonhosted.org/packages/f0/26/198fc8c0b98580f617cb03cb298c6056587b8f0447e20fa40c5b634ced77/pyspark-3.0.1.tar.gz (204.2MB)\n",
            "\u001b[K     |████████████████████████████████| 204.2MB 51kB/s \n",
            "\u001b[?25hCollecting py4j==0.10.9\n",
            "\u001b[?25l  Downloading https://files.pythonhosted.org/packages/9e/b6/6a4fb90cd235dc8e265a6a2067f2a2c99f0d91787f06aca4bcf7c23f3f80/py4j-0.10.9-py2.py3-none-any.whl (198kB)\n",
            "\u001b[K     |████████████████████████████████| 204kB 46.6MB/s \n",
            "\u001b[?25hBuilding wheels for collected packages: pyspark\n",
            "  Building wheel for pyspark (setup.py) ... \u001b[?25l\u001b[?25hdone\n",
            "  Created wheel for pyspark: filename=pyspark-3.0.1-py2.py3-none-any.whl size=204612242 sha256=c826b6a55f18b3c64e439478189420c653e75dafeea6358f832b0edfb9083815\n",
            "  Stored in directory: /root/.cache/pip/wheels/5e/bd/07/031766ca628adec8435bb40f0bd83bb676ce65ff4007f8e73f\n",
            "Successfully built pyspark\n",
            "Installing collected packages: py4j, pyspark\n",
            "Successfully installed py4j-0.10.9 pyspark-3.0.1\n"
          ],
          "name": "stdout"
        }
      ]
    },
    {
      "cell_type": "code",
      "metadata": {
        "id": "ByTlY5RkzW7O"
      },
      "source": [
        "from pyspark import SparkConf, SparkContext"
      ],
      "execution_count": 3,
      "outputs": []
    },
    {
      "cell_type": "code",
      "metadata": {
        "id": "aBjLyxVgzhlJ"
      },
      "source": [
        "conf = SparkConf().setMaster('local').setAppName('MinTemparatures')\n",
        "sc = SparkContext(conf = conf)"
      ],
      "execution_count": 4,
      "outputs": []
    },
    {
      "cell_type": "code",
      "metadata": {
        "colab": {
          "base_uri": "https://localhost:8080/",
          "height": 193
        },
        "id": "5s0oo4zq0bJR",
        "outputId": "0068c88b-3ec6-4625-d540-214798dcafff"
      },
      "source": [
        "sc"
      ],
      "execution_count": 5,
      "outputs": [
        {
          "output_type": "execute_result",
          "data": {
            "text/html": [
              "\n",
              "        <div>\n",
              "            <p><b>SparkContext</b></p>\n",
              "\n",
              "            <p><a href=\"http://bc4200a38928:4040\">Spark UI</a></p>\n",
              "\n",
              "            <dl>\n",
              "              <dt>Version</dt>\n",
              "                <dd><code>v3.0.1</code></dd>\n",
              "              <dt>Master</dt>\n",
              "                <dd><code>local</code></dd>\n",
              "              <dt>AppName</dt>\n",
              "                <dd><code>MinTemparatures</code></dd>\n",
              "            </dl>\n",
              "        </div>\n",
              "        "
            ],
            "text/plain": [
              "<SparkContext master=local appName=MinTemparatures>"
            ]
          },
          "metadata": {
            "tags": []
          },
          "execution_count": 5
        }
      ]
    },
    {
      "cell_type": "code",
      "metadata": {
        "id": "zueavp3y0bs2"
      },
      "source": [
        "data = sc.textFile('./1800.csv')"
      ],
      "execution_count": 12,
      "outputs": []
    },
    {
      "cell_type": "code",
      "metadata": {
        "colab": {
          "base_uri": "https://localhost:8080/"
        },
        "id": "A4yFg5N50gaY",
        "outputId": "da39d4c7-eecf-4dc1-f7eb-23651506e2a6"
      },
      "source": [
        "data.take(5)"
      ],
      "execution_count": 13,
      "outputs": [
        {
          "output_type": "execute_result",
          "data": {
            "text/plain": [
              "['ITE00100554,18000101,TMAX,-75,,,E,',\n",
              " 'ITE00100554,18000101,TMIN,-148,,,E,',\n",
              " 'GM000010962,18000101,PRCP,0,,,E,',\n",
              " 'EZE00100082,18000101,TMAX,-86,,,E,',\n",
              " 'EZE00100082,18000101,TMIN,-135,,,E,']"
            ]
          },
          "metadata": {
            "tags": []
          },
          "execution_count": 13
        }
      ]
    },
    {
      "cell_type": "code",
      "metadata": {
        "id": "pJqYl1VM0igQ"
      },
      "source": [
        "def parselines(line):\n",
        "    parts = line.split(',')\n",
        "    stationID, entryType = parts[0], parts[2]\n",
        "    temparature = float(parts[3])\n",
        "    return (stationID, entryType, temparature)\n",
        "\n",
        "lines = data.map(parselines)"
      ],
      "execution_count": 14,
      "outputs": []
    },
    {
      "cell_type": "code",
      "metadata": {
        "colab": {
          "base_uri": "https://localhost:8080/"
        },
        "id": "D1NSha_81o8y",
        "outputId": "ae54ab06-26d9-4420-9563-933e649239da"
      },
      "source": [
        "lines.take(5)"
      ],
      "execution_count": 15,
      "outputs": [
        {
          "output_type": "execute_result",
          "data": {
            "text/plain": [
              "[('ITE00100554', 'TMAX', -75.0),\n",
              " ('ITE00100554', 'TMIN', -148.0),\n",
              " ('GM000010962', 'PRCP', 0.0),\n",
              " ('EZE00100082', 'TMAX', -86.0),\n",
              " ('EZE00100082', 'TMIN', -135.0)]"
            ]
          },
          "metadata": {
            "tags": []
          },
          "execution_count": 15
        }
      ]
    },
    {
      "cell_type": "code",
      "metadata": {
        "colab": {
          "base_uri": "https://localhost:8080/"
        },
        "id": "PFeoXxjd1qfJ",
        "outputId": "8bdfb5d9-1bad-45f4-8a6d-4f9dbabdfae6"
      },
      "source": [
        "minTemparature = lines.filter(lambda x: x[1] == 'TMIN')\n",
        "minTemparature.take(5)"
      ],
      "execution_count": 16,
      "outputs": [
        {
          "output_type": "execute_result",
          "data": {
            "text/plain": [
              "[('ITE00100554', 'TMIN', -148.0),\n",
              " ('EZE00100082', 'TMIN', -135.0),\n",
              " ('ITE00100554', 'TMIN', -125.0),\n",
              " ('EZE00100082', 'TMIN', -130.0),\n",
              " ('ITE00100554', 'TMIN', -46.0)]"
            ]
          },
          "metadata": {
            "tags": []
          },
          "execution_count": 16
        }
      ]
    },
    {
      "cell_type": "code",
      "metadata": {
        "id": "zjd-hcnP14rs"
      },
      "source": [
        "stationTemps = minTemparature.map(lambda x: (x[0], x[2]))"
      ],
      "execution_count": 17,
      "outputs": []
    },
    {
      "cell_type": "code",
      "metadata": {
        "colab": {
          "base_uri": "https://localhost:8080/"
        },
        "id": "xgmDgaA72RgG",
        "outputId": "cfb1570a-1308-4645-deac-e98a7b191962"
      },
      "source": [
        "stationTemps.take(5)"
      ],
      "execution_count": 18,
      "outputs": [
        {
          "output_type": "execute_result",
          "data": {
            "text/plain": [
              "[('ITE00100554', -148.0),\n",
              " ('EZE00100082', -135.0),\n",
              " ('ITE00100554', -125.0),\n",
              " ('EZE00100082', -130.0),\n",
              " ('ITE00100554', -46.0)]"
            ]
          },
          "metadata": {
            "tags": []
          },
          "execution_count": 18
        }
      ]
    },
    {
      "cell_type": "code",
      "metadata": {
        "id": "WzJFgG042S8V"
      },
      "source": [
        "minTemparature = stationTemps.reduceByKey(lambda x, y: min(x, y))"
      ],
      "execution_count": 19,
      "outputs": []
    },
    {
      "cell_type": "code",
      "metadata": {
        "colab": {
          "base_uri": "https://localhost:8080/"
        },
        "id": "1P-eaNwj2gOq",
        "outputId": "8f5bb173-229a-4e34-9f8b-f8130f5dad36"
      },
      "source": [
        "minTemparature.take(10)"
      ],
      "execution_count": 20,
      "outputs": [
        {
          "output_type": "execute_result",
          "data": {
            "text/plain": [
              "[('ITE00100554', -148.0), ('EZE00100082', -135.0)]"
            ]
          },
          "metadata": {
            "tags": []
          },
          "execution_count": 20
        }
      ]
    },
    {
      "cell_type": "code",
      "metadata": {
        "colab": {
          "base_uri": "https://localhost:8080/"
        },
        "id": "0F45amYG2h7W",
        "outputId": "04a5559a-4d2e-43ce-d68c-15e5fa2c6467"
      },
      "source": [
        "minTemparature.collect()"
      ],
      "execution_count": 21,
      "outputs": [
        {
          "output_type": "execute_result",
          "data": {
            "text/plain": [
              "[('ITE00100554', -148.0), ('EZE00100082', -135.0)]"
            ]
          },
          "metadata": {
            "tags": []
          },
          "execution_count": 21
        }
      ]
    },
    {
      "cell_type": "code",
      "metadata": {
        "id": "R4JqPVvs2n23"
      },
      "source": [
        "minTemparatureDegC = minTemparature.map(lambda x: x[1]*0.1*(9.0/5.0)+32)"
      ],
      "execution_count": 22,
      "outputs": []
    },
    {
      "cell_type": "code",
      "metadata": {
        "colab": {
          "base_uri": "https://localhost:8080/"
        },
        "id": "JZmoncIg3Yem",
        "outputId": "b3c95f01-1e72-4d6c-91cb-a93913225d10"
      },
      "source": [
        "minTemparatureDegC.take(10)"
      ],
      "execution_count": 24,
      "outputs": [
        {
          "output_type": "execute_result",
          "data": {
            "text/plain": [
              "[5.359999999999999, 7.699999999999999]"
            ]
          },
          "metadata": {
            "tags": []
          },
          "execution_count": 24
        }
      ]
    },
    {
      "cell_type": "code",
      "metadata": {
        "id": "szLzUY4X3a1W"
      },
      "source": [
        ""
      ],
      "execution_count": 25,
      "outputs": []
    },
    {
      "cell_type": "code",
      "metadata": {
        "id": "XBNf5ysH4Fsu"
      },
      "source": [
        ""
      ],
      "execution_count": null,
      "outputs": []
    }
  ]
}