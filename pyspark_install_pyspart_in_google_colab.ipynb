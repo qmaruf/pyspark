{
  "nbformat": 4,
  "nbformat_minor": 0,
  "metadata": {
    "colab": {
      "name": "pyspark/install pyspart in google colab",
      "provenance": [],
      "authorship_tag": "ABX9TyONRfMjSXUek5ICdNUaDIVv",
      "include_colab_link": true
    },
    "kernelspec": {
      "name": "python3",
      "display_name": "Python 3"
    }
  },
  "cells": [
    {
      "cell_type": "markdown",
      "metadata": {
        "id": "view-in-github",
        "colab_type": "text"
      },
      "source": [
        "<a href=\"https://colab.research.google.com/github/qmaruf/pyspark/blob/main/pyspark_install_pyspart_in_google_colab.ipynb\" target=\"_parent\"><img src=\"https://colab.research.google.com/assets/colab-badge.svg\" alt=\"Open In Colab\"/></a>"
      ]
    },
    {
      "cell_type": "code",
      "metadata": {
        "colab": {
          "base_uri": "https://localhost:8080/"
        },
        "id": "ucKsJ4PPTene",
        "outputId": "f9c96f79-a63b-46cd-90db-812a28ac92ba"
      },
      "source": [
        "! pip install pyspark"
      ],
      "execution_count": 1,
      "outputs": [
        {
          "output_type": "stream",
          "text": [
            "Requirement already satisfied: pyspark in /usr/local/lib/python3.6/dist-packages (3.0.1)\n",
            "Requirement already satisfied: py4j==0.10.9 in /usr/local/lib/python3.6/dist-packages (from pyspark) (0.10.9)\n"
          ],
          "name": "stdout"
        }
      ]
    },
    {
      "cell_type": "code",
      "metadata": {
        "colab": {
          "base_uri": "https://localhost:8080/"
        },
        "id": "GVfoW4xLTgLT",
        "outputId": "4e64ce00-85b8-40c4-8417-b57a0218f7c8"
      },
      "source": [
        "! wget http://files.grouplens.org/datasets/movielens/ml-100k.zip -P ./data\n",
        "! unzip ./data/ml-100k.zip -d ./data/"
      ],
      "execution_count": 2,
      "outputs": [
        {
          "output_type": "stream",
          "text": [
            "--2021-01-10 03:25:08--  http://files.grouplens.org/datasets/movielens/ml-100k.zip\n",
            "Resolving files.grouplens.org (files.grouplens.org)... 128.101.65.152\n",
            "Connecting to files.grouplens.org (files.grouplens.org)|128.101.65.152|:80... connected.\n",
            "HTTP request sent, awaiting response... 200 OK\n",
            "Length: 4924029 (4.7M) [application/zip]\n",
            "Saving to: ‘./data/ml-100k.zip.1’\n",
            "\n",
            "ml-100k.zip.1       100%[===================>]   4.70M  13.9MB/s    in 0.3s    \n",
            "\n",
            "2021-01-10 03:25:08 (13.9 MB/s) - ‘./data/ml-100k.zip.1’ saved [4924029/4924029]\n",
            "\n",
            "Archive:  ./data/ml-100k.zip\n",
            "replace ./data/ml-100k/allbut.pl? [y]es, [n]o, [A]ll, [N]one, [r]ename: A\n",
            "  inflating: ./data/ml-100k/allbut.pl  \n",
            "  inflating: ./data/ml-100k/mku.sh   \n",
            "  inflating: ./data/ml-100k/README   \n",
            "  inflating: ./data/ml-100k/u.data   \n",
            "  inflating: ./data/ml-100k/u.genre  \n",
            "  inflating: ./data/ml-100k/u.info   \n",
            "  inflating: ./data/ml-100k/u.item   \n",
            "  inflating: ./data/ml-100k/u.occupation  \n",
            "  inflating: ./data/ml-100k/u.user   \n",
            "  inflating: ./data/ml-100k/u1.base  \n",
            "  inflating: ./data/ml-100k/u1.test  \n",
            "  inflating: ./data/ml-100k/u2.base  \n",
            "  inflating: ./data/ml-100k/u2.test  \n",
            "  inflating: ./data/ml-100k/u3.base  \n",
            "  inflating: ./data/ml-100k/u3.test  \n",
            "  inflating: ./data/ml-100k/u4.base  \n",
            "  inflating: ./data/ml-100k/u4.test  \n",
            "  inflating: ./data/ml-100k/u5.base  \n",
            "  inflating: ./data/ml-100k/u5.test  \n",
            "  inflating: ./data/ml-100k/ua.base  \n",
            "  inflating: ./data/ml-100k/ua.test  \n",
            "  inflating: ./data/ml-100k/ub.base  \n",
            "  inflating: ./data/ml-100k/ub.test  \n"
          ],
          "name": "stdout"
        }
      ]
    },
    {
      "cell_type": "code",
      "metadata": {
        "id": "hlgpUKRSUPrC"
      },
      "source": [
        "from pyspark import SparkConf, SparkContext\n",
        "import collections"
      ],
      "execution_count": 3,
      "outputs": []
    },
    {
      "cell_type": "code",
      "metadata": {
        "id": "JVrIRYq0UZ33"
      },
      "source": [
        "conf = SparkConf().setMaster('local').setAppName('ratingHistogram')\n",
        "sc = SparkContext(conf=conf)"
      ],
      "execution_count": 5,
      "outputs": []
    },
    {
      "cell_type": "code",
      "metadata": {
        "id": "HgP3jByNXOCw"
      },
      "source": [
        "lines = sc.textFile('./data/ml-100k/u.data')"
      ],
      "execution_count": 7,
      "outputs": []
    },
    {
      "cell_type": "code",
      "metadata": {
        "colab": {
          "base_uri": "https://localhost:8080/"
        },
        "id": "GvbwrhrrXsIz",
        "outputId": "508deb48-eb4a-4374-be13-df805328d656"
      },
      "source": [
        "lines"
      ],
      "execution_count": 8,
      "outputs": [
        {
          "output_type": "execute_result",
          "data": {
            "text/plain": [
              "./data/ml-100k/u.data MapPartitionsRDD[1] at textFile at NativeMethodAccessorImpl.java:0"
            ]
          },
          "metadata": {
            "tags": []
          },
          "execution_count": 8
        }
      ]
    },
    {
      "cell_type": "code",
      "metadata": {
        "colab": {
          "base_uri": "https://localhost:8080/"
        },
        "id": "FkjjBF8RYd_r",
        "outputId": "b95e67b7-e14f-4089-ea5d-48321273286b"
      },
      "source": [
        "! head ./data/ml-100k/u.data"
      ],
      "execution_count": 9,
      "outputs": [
        {
          "output_type": "stream",
          "text": [
            "196\t242\t3\t881250949\n",
            "186\t302\t3\t891717742\n",
            "22\t377\t1\t878887116\n",
            "244\t51\t2\t880606923\n",
            "166\t346\t1\t886397596\n",
            "298\t474\t4\t884182806\n",
            "115\t265\t2\t881171488\n",
            "253\t465\t5\t891628467\n",
            "305\t451\t3\t886324817\n",
            "6\t86\t3\t883603013\n"
          ],
          "name": "stdout"
        }
      ]
    },
    {
      "cell_type": "code",
      "metadata": {
        "colab": {
          "base_uri": "https://localhost:8080/"
        },
        "id": "d1VxWvFbYm1Z",
        "outputId": "f3d773cf-5110-4f61-9d36-5a666932d802"
      },
      "source": [
        "ratings = lines.map(lambda line: line.split()[2])\n",
        "counter = ratings.countByValue()\n",
        "counter"
      ],
      "execution_count": 11,
      "outputs": [
        {
          "output_type": "execute_result",
          "data": {
            "text/plain": [
              "defaultdict(int, {'1': 6110, '2': 11370, '3': 27145, '4': 34174, '5': 21201})"
            ]
          },
          "metadata": {
            "tags": []
          },
          "execution_count": 11
        }
      ]
    },
    {
      "cell_type": "code",
      "metadata": {
        "id": "X8wbNcY_ZdVx"
      },
      "source": [
        "ratings_key = list(counter.keys())\n",
        "ratings_val = list(counter.values())"
      ],
      "execution_count": 27,
      "outputs": []
    },
    {
      "cell_type": "code",
      "metadata": {
        "id": "wKiCEIPJaCW7"
      },
      "source": [
        "import seaborn as sns\n",
        "import matplotlib.pyplot as plt\n",
        "%matplotlib inline"
      ],
      "execution_count": 23,
      "outputs": []
    },
    {
      "cell_type": "code",
      "metadata": {
        "colab": {
          "base_uri": "https://localhost:8080/",
          "height": 350
        },
        "id": "WbY2-pCVacm9",
        "outputId": "9c09d7a9-08ec-4023-8ae4-25b7a0b49dd4"
      },
      "source": [
        "ax = sns.barplot(ratings_key, ratings_val)\n",
        "ax.set(xlabel=\"Ratings\", ylabel = \"Frequency\")"
      ],
      "execution_count": 31,
      "outputs": [
        {
          "output_type": "stream",
          "text": [
            "/usr/local/lib/python3.6/dist-packages/seaborn/_decorators.py:43: FutureWarning: Pass the following variables as keyword args: x, y. From version 0.12, the only valid positional argument will be `data`, and passing other arguments without an explicit keyword will result in an error or misinterpretation.\n",
            "  FutureWarning\n"
          ],
          "name": "stderr"
        },
        {
          "output_type": "execute_result",
          "data": {
            "text/plain": [
              "[Text(0, 0.5, 'Frequency'), Text(0.5, 0, 'Ratings')]"
            ]
          },
          "metadata": {
            "tags": []
          },
          "execution_count": 31
        },
        {
          "output_type": "display_data",
          "data": {
            "image/png": "[encoded data removed]",
            "text/plain": [
              "<Figure size 432x288 with 1 Axes>"
            ]
          },
          "metadata": {
            "tags": [],
            "needs_background": "light"
          }
        }
      ]
    },
    {
      "cell_type": "code",
      "metadata": {
        "id": "3ByA4V_CbLPA"
      },
      "source": [
        ""
      ],
      "execution_count": null,
      "outputs": []
    }
  ]
}